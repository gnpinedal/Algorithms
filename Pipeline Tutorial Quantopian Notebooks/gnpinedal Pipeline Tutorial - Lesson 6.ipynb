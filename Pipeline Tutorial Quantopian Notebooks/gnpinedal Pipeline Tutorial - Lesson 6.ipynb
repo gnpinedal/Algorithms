{
 "cells": [
  {
   "cell_type": "code",
   "execution_count": 1,
   "metadata": {},
   "outputs": [],
   "source": [
    "from quantopian.pipeline import Pipeline\n",
    "from quantopian.research import run_pipeline\n",
    "from quantopian.pipeline.data.builtin import USEquityPricing\n",
    "from quantopian.pipeline.factors import SimpleMovingAverage, AverageDollarVolume"
   ]
  },
  {
   "cell_type": "markdown",
   "metadata": {},
   "source": [
    "###Combining Filters\n",
    "Like factors, filters can be combined. Combining filters is done using the `&` (and) and `|` (or) operators. For example, let's say we want to screen for securities that are in the top 5% of average dollar volume and have a latest close price above $90. To start, let's make a high dollar volume filter using an `AverageDollarVolume` factor and `percentile_between`:"
   ]
  },
  {
   "cell_type": "code",
   "execution_count": 2,
   "metadata": {},
   "outputs": [],
   "source": [
    "dollar_volume = AverageDollarVolume(window_length=60)\n",
    "high_dollar_volume = dollar_volume.percentile_between(95, 100)"
   ]
  },
  {
   "cell_type": "markdown",
   "metadata": {},
   "source": [
    "Note: `percentile_between` is a `Factor` method returning a `Filter`."
   ]
  },
  {
   "cell_type": "markdown",
   "metadata": {},
   "source": [
    "Next, let's create a `latest_close` factor and define a filter for securities that closed above $90:"
   ]
  },
  {
   "cell_type": "code",
   "execution_count": 3,
   "metadata": {},
   "outputs": [],
   "source": [
    "latest_close = USEquityPricing.close.latest\n",
    "above_90 = latest_close > 90"
   ]
  },
  {
   "cell_type": "markdown",
   "metadata": {},
   "source": [
    "Now we can combine our `high_dollar_volume` filter with our `above_90` filter using the `&` operator:"
   ]
  },
  {
   "cell_type": "code",
   "execution_count": 4,
   "metadata": {},
   "outputs": [],
   "source": [
    "tradeable_filter = high_dollar_volume & above_90"
   ]
  },
  {
   "cell_type": "markdown",
   "metadata": {},
   "source": [
    "This filter will evaluate to `True` for securities where both `high_dollar_volume` and `above_20` are `True`. Otherwise, it will evaluate to `False`. A similar computation can be made with the `|` (or) operator.\n",
    "\n",
    "If we want to use this filter as a screen in our pipeline, we can simply pass `tradeable_filter` as the `screen` argument."
   ]
  },
  {
   "cell_type": "code",
   "execution_count": 12,
   "metadata": {},
   "outputs": [],
   "source": [
    "def make_pipeline():\n",
    "\n",
    "    mean_close_60 = SimpleMovingAverage(inputs=[USEquityPricing.close], window_length=60)\n",
    "    mean_close_30 = SimpleMovingAverage(inputs=[USEquityPricing.close], window_length=30)\n",
    "\n",
    "    percent_difference = (mean_close_60 - mean_close_30) / mean_close_60\n",
    "\n",
    "    dollar_volume = AverageDollarVolume(window_length=60)\n",
    "    high_dollar_volume = dollar_volume.percentile_between(95, 100)\n",
    "\n",
    "    latest_close = USEquityPricing.close.latest\n",
    "    above_90 = latest_close > 90\n",
    "\n",
    "    tradeable_filter = high_dollar_volume & above_90\n",
    "\n",
    "    return Pipeline(\n",
    "        columns = {'percent_difference': percent_difference, 'close': USEquityPricing.close.latest},\n",
    "        screen = tradeable_filter)"
   ]
  },
  {
   "cell_type": "markdown",
   "metadata": {},
   "source": [
    "When we run this, our pipeline output now only includes ~180 securities."
   ]
  },
  {
   "cell_type": "code",
   "execution_count": 13,
   "metadata": {},
   "outputs": [
    {
     "data": {
      "application/vnd.jupyter.widget-view+json": {
       "model_id": "",
       "version_major": 2,
       "version_minor": 0
      },
      "text/plain": []
     },
     "metadata": {},
     "output_type": "display_data"
    },
    {
     "data": {
      "text/html": [
       "<b>Pipeline Execution Time:</b> 0.68 Seconds"
      ],
      "text/plain": [
       "<IPython.core.display.HTML object>"
      ]
     },
     "metadata": {},
     "output_type": "display_data"
    },
    {
     "name": "stdout",
     "output_type": "stream",
     "text": [
      "Number of securities that passed the filter: 181\n"
     ]
    },
    {
     "data": {
      "text/html": [
       "<div>\n",
       "<table border=\"1\" class=\"dataframe\">\n",
       "  <thead>\n",
       "    <tr style=\"text-align: right;\">\n",
       "      <th></th>\n",
       "      <th></th>\n",
       "      <th>close</th>\n",
       "      <th>percent_difference</th>\n",
       "    </tr>\n",
       "  </thead>\n",
       "  <tbody>\n",
       "    <tr>\n",
       "      <th rowspan=\"10\" valign=\"top\">2017-12-27 00:00:00+00:00</th>\n",
       "      <th>Equity(24 [AAPL])</th>\n",
       "      <td>170.57</td>\n",
       "      <td>-0.032539</td>\n",
       "    </tr>\n",
       "    <tr>\n",
       "      <th>Equity(67 [ADSK])</th>\n",
       "      <td>103.80</td>\n",
       "      <td>0.025277</td>\n",
       "    </tr>\n",
       "    <tr>\n",
       "      <th>Equity(114 [ADBE])</th>\n",
       "      <td>174.46</td>\n",
       "      <td>-0.034462</td>\n",
       "    </tr>\n",
       "    <tr>\n",
       "      <th>Equity(168 [AET])</th>\n",
       "      <td>180.46</td>\n",
       "      <td>-0.038638</td>\n",
       "    </tr>\n",
       "    <tr>\n",
       "      <th>Equity(357 [TWX])</th>\n",
       "      <td>91.63</td>\n",
       "      <td>0.047407</td>\n",
       "    </tr>\n",
       "    <tr>\n",
       "      <th>Equity(368 [AMGN])</th>\n",
       "      <td>176.08</td>\n",
       "      <td>0.014175</td>\n",
       "    </tr>\n",
       "    <tr>\n",
       "      <th>Equity(438 [AON])</th>\n",
       "      <td>133.29</td>\n",
       "      <td>0.025562</td>\n",
       "    </tr>\n",
       "    <tr>\n",
       "      <th>Equity(630 [ADP])</th>\n",
       "      <td>117.58</td>\n",
       "      <td>-0.003013</td>\n",
       "    </tr>\n",
       "    <tr>\n",
       "      <th>Equity(679 [AXP])</th>\n",
       "      <td>98.57</td>\n",
       "      <td>-0.018221</td>\n",
       "    </tr>\n",
       "    <tr>\n",
       "      <th>Equity(693 [AZO])</th>\n",
       "      <td>714.29</td>\n",
       "      <td>-0.062657</td>\n",
       "    </tr>\n",
       "  </tbody>\n",
       "</table>\n",
       "</div>"
      ],
      "text/plain": [
       "                                               close  percent_difference\n",
       "2017-12-27 00:00:00+00:00 Equity(24 [AAPL])   170.57           -0.032539\n",
       "                          Equity(67 [ADSK])   103.80            0.025277\n",
       "                          Equity(114 [ADBE])  174.46           -0.034462\n",
       "                          Equity(168 [AET])   180.46           -0.038638\n",
       "                          Equity(357 [TWX])    91.63            0.047407\n",
       "                          Equity(368 [AMGN])  176.08            0.014175\n",
       "                          Equity(438 [AON])   133.29            0.025562\n",
       "                          Equity(630 [ADP])   117.58           -0.003013\n",
       "                          Equity(679 [AXP])    98.57           -0.018221\n",
       "                          Equity(693 [AZO])   714.29           -0.062657"
      ]
     },
     "execution_count": 13,
     "metadata": {},
     "output_type": "execute_result"
    }
   ],
   "source": [
    "result = run_pipeline(make_pipeline(), '2017-12-27', '2017-12-27')\n",
    "print 'Number of securities that passed the filter: %d' % len(result)\n",
    "result.head(10)"
   ]
  },
  {
   "cell_type": "markdown",
   "metadata": {},
   "source": [
    "In the next lesson, we'll look at masking factors and filters."
   ]
  }
 ],
 "metadata": {
  "kernelspec": {
   "display_name": "Python 3.5",
   "language": "python",
   "name": "py35"
  },
  "language_info": {
   "codemirror_mode": {
    "name": "ipython",
    "version": 3
   },
   "file_extension": ".py",
   "mimetype": "text/x-python",
   "name": "python",
   "nbconvert_exporter": "python",
   "pygments_lexer": "ipython3",
   "version": "3.5.9"
  }
 },
 "nbformat": 4,
 "nbformat_minor": 1
}
