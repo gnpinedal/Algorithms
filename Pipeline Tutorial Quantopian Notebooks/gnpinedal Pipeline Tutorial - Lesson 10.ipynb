{
 "cells": [
  {
   "cell_type": "code",
   "execution_count": 1,
   "metadata": {},
   "outputs": [],
   "source": [
    "from quantopian.pipeline import Pipeline\n",
    "from quantopian.research import run_pipeline\n",
    "from quantopian.pipeline.data.builtin import USEquityPricing\n",
    "from quantopian.pipeline.factors import SimpleMovingAverage, AverageDollarVolume"
   ]
  },
  {
   "cell_type": "markdown",
   "metadata": {},
   "source": [
    "## Custom Factors\n",
    "When we first looked at factors, we explored the set of built-in factors. Frequently, a desired computation isn't included as a built-in factor. One of the most powerful features of the Pipeline API is that it allows us to define our own custom factors. When a desired computation doesn't exist as a built-in, we define a custom factor.\n",
    "\n",
    "Conceptually, a custom factor is identical to a built-in factor. It accepts `inputs`, `window_length`, and `mask` as constructor arguments, and returns a `Factor` object each day.\n",
    "\n",
    "Let's take an example of a computation that doesn't exist as a built-in: standard deviation. To create a factor that computes the [standard deviation](https://en.wikipedia.org/wiki/Standard_deviation) over a trailing window, we can subclass `quantopian.pipeline.CustomFactor` and implement a compute method whose signature is:\n",
    "\n",
    "\n",
    "```\n",
    "def compute(self, today, asset_ids, out, *inputs):\n",
    "    ...\n",
    "```\n",
    "\n",
    "- `*inputs` are M x N [numpy arrays](http://docs.scipy.org/doc/numpy-1.10.1/reference/arrays.ndarray.html), where M is the `window_length` and N is the number of securities (usually around ~8000 unless a `mask` is provided). `*inputs` are trailing data windows. Note that there will be one M x N array for each `BoundColumn` provided in the factor's `inputs` list. The data type of each array will be the `dtype` of the corresponding `BoundColumn`.\n",
    "- `out` is an empty array of length N. `out` will be the output of our custom factor each day. The job of compute is to write output values into out.\n",
    "- `asset_ids` will be an integer [array](http://docs.scipy.org/doc/numpy-1.10.0/reference/generated/numpy.array.html) of length N containing security ids corresponding to the columns in our `*inputs` arrays.\n",
    "- `today` will be a [pandas Timestamp](http://pandas.pydata.org/pandas-docs/stable/timeseries.html#converting-to-timestamps) representing the day for which `compute` is being called.\n",
    "\n",
    "Of these, `*inputs` and `out` are most commonly used.\n",
    "\n",
    "An instance of `CustomFactor` that’s been added to a pipeline will have its compute method called every day. For example, let's define a custom factor that computes the standard deviation of the close price over the last 30 days. To start, let's add `CustomFactor` and `numpy` to our import statements."
   ]
  },
  {
   "cell_type": "code",
   "execution_count": 2,
   "metadata": {},
   "outputs": [],
   "source": [
    "from quantopian.pipeline import CustomFactor\n",
    "import numpy"
   ]
  },
  {
   "cell_type": "markdown",
   "metadata": {},
   "source": [
    "Next, let's define our custom factor to calculate the standard deviation over a trailing window using [numpy.nanstd](http://docs.scipy.org/doc/numpy-dev/reference/generated/numpy.nanstd.html):"
   ]
  },
  {
   "cell_type": "code",
   "execution_count": 6,
   "metadata": {},
   "outputs": [],
   "source": [
    "class StdDev(CustomFactor):\n",
    "    def compute(self, today, asset_ids, out, values):\n",
    "        # Calculates the column-wise standard deviation, ignoring NaNs\n",
    "        out[:] = numpy.nanstd(values, axis=0)"
   ]
  },
  {
   "cell_type": "markdown",
   "metadata": {},
   "source": [
    "Finally, let's instantiate our factor in `make_pipeline()`:"
   ]
  },
  {
   "cell_type": "code",
   "execution_count": 4,
   "metadata": {},
   "outputs": [],
   "source": [
    "def make_pipeline():\n",
    "    std_dev = StdDev(inputs=[USEquityPricing.close], window_length=30)\n",
    "\n",
    "    return Pipeline(\n",
    "        columns={'std dev': std_dev})"
   ]
  },
  {
   "cell_type": "markdown",
   "metadata": {},
   "source": [
    "When this pipeline is run, `StdDev.compute()` will be called every day with data as follows:\n",
    "\n",
    "- `values`: An M x N [numpy array](http://docs.scipy.org/doc/numpy-1.10.1/reference/arrays.ndarray.html), where M is 5 (`window_length`), and N is ~8000 (the number of securities in our database on the day in question).\n",
    "- `out`: An empty array of length N (~8000). In this example, the job of `compute` is to populate `out` with an array storing of 5-day close price standard deviations."
   ]
  },
  {
   "cell_type": "code",
   "execution_count": 7,
   "metadata": {},
   "outputs": [
    {
     "data": {
      "application/vnd.jupyter.widget-view+json": {
       "model_id": "",
       "version_major": 2,
       "version_minor": 0
      },
      "text/plain": []
     },
     "metadata": {},
     "output_type": "display_data"
    },
    {
     "name": "stderr",
     "output_type": "stream",
     "text": [
      "/venvs/py35/lib/python3.5/site-packages/numpy/lib/nanfunctions.py:1202: RuntimeWarning: Degrees of freedom <= 0 for slice.\n",
      "  warnings.warn(\"Degrees of freedom <= 0 for slice.\", RuntimeWarning)\n"
     ]
    },
    {
     "data": {
      "text/html": [
       "<b>Pipeline Execution Time:</b> 16.33 Seconds"
      ],
      "text/plain": [
       "<IPython.core.display.HTML object>"
      ]
     },
     "metadata": {},
     "output_type": "display_data"
    },
    {
     "data": {
      "text/html": [
       "<div>\n",
       "<table border=\"1\" class=\"dataframe\">\n",
       "  <thead>\n",
       "    <tr style=\"text-align: right;\">\n",
       "      <th></th>\n",
       "      <th></th>\n",
       "      <th>std dev</th>\n",
       "    </tr>\n",
       "  </thead>\n",
       "  <tbody>\n",
       "    <tr>\n",
       "      <th rowspan=\"20\" valign=\"top\">2017-12-27 00:00:00+00:00</th>\n",
       "      <th>Equity(2 [HWM])</th>\n",
       "      <td>1.014845</td>\n",
       "    </tr>\n",
       "    <tr>\n",
       "      <th>Equity(21 [AAME])</th>\n",
       "      <td>0.185740</td>\n",
       "    </tr>\n",
       "    <tr>\n",
       "      <th>Equity(24 [AAPL])</th>\n",
       "      <td>2.170619</td>\n",
       "    </tr>\n",
       "    <tr>\n",
       "      <th>Equity(25 [HWM_PR])</th>\n",
       "      <td>0.959581</td>\n",
       "    </tr>\n",
       "    <tr>\n",
       "      <th>Equity(31 [ABAX])</th>\n",
       "      <td>1.279765</td>\n",
       "    </tr>\n",
       "    <tr>\n",
       "      <th>Equity(41 [ARCB])</th>\n",
       "      <td>1.939977</td>\n",
       "    </tr>\n",
       "    <tr>\n",
       "      <th>Equity(52 [ABM])</th>\n",
       "      <td>2.075785</td>\n",
       "    </tr>\n",
       "    <tr>\n",
       "      <th>Equity(53 [ABMD])</th>\n",
       "      <td>3.484061</td>\n",
       "    </tr>\n",
       "    <tr>\n",
       "      <th>Equity(62 [ABT])</th>\n",
       "      <td>0.776153</td>\n",
       "    </tr>\n",
       "    <tr>\n",
       "      <th>Equity(64 [GOLD])</th>\n",
       "      <td>0.260351</td>\n",
       "    </tr>\n",
       "    <tr>\n",
       "      <th>Equity(66 [AB])</th>\n",
       "      <td>0.323102</td>\n",
       "    </tr>\n",
       "    <tr>\n",
       "      <th>Equity(67 [ADSK])</th>\n",
       "      <td>10.004585</td>\n",
       "    </tr>\n",
       "    <tr>\n",
       "      <th>Equity(70 [VBF])</th>\n",
       "      <td>0.168367</td>\n",
       "    </tr>\n",
       "    <tr>\n",
       "      <th>Equity(76 [TAP])</th>\n",
       "      <td>1.116515</td>\n",
       "    </tr>\n",
       "    <tr>\n",
       "      <th>Equity(84 [ACET])</th>\n",
       "      <td>0.442660</td>\n",
       "    </tr>\n",
       "    <tr>\n",
       "      <th>Equity(100 [IEP])</th>\n",
       "      <td>0.675929</td>\n",
       "    </tr>\n",
       "    <tr>\n",
       "      <th>Equity(106 [ACU])</th>\n",
       "      <td>0.909490</td>\n",
       "    </tr>\n",
       "    <tr>\n",
       "      <th>Equity(110 [RAMP])</th>\n",
       "      <td>0.445436</td>\n",
       "    </tr>\n",
       "    <tr>\n",
       "      <th>Equity(112 [ACY])</th>\n",
       "      <td>0.510807</td>\n",
       "    </tr>\n",
       "    <tr>\n",
       "      <th>Equity(114 [ADBE])</th>\n",
       "      <td>4.727263</td>\n",
       "    </tr>\n",
       "  </tbody>\n",
       "</table>\n",
       "</div>"
      ],
      "text/plain": [
       "                                                 std dev\n",
       "2017-12-27 00:00:00+00:00 Equity(2 [HWM])       1.014845\n",
       "                          Equity(21 [AAME])     0.185740\n",
       "                          Equity(24 [AAPL])     2.170619\n",
       "                          Equity(25 [HWM_PR])   0.959581\n",
       "                          Equity(31 [ABAX])     1.279765\n",
       "                          Equity(41 [ARCB])     1.939977\n",
       "                          Equity(52 [ABM])      2.075785\n",
       "                          Equity(53 [ABMD])     3.484061\n",
       "                          Equity(62 [ABT])      0.776153\n",
       "                          Equity(64 [GOLD])     0.260351\n",
       "                          Equity(66 [AB])       0.323102\n",
       "                          Equity(67 [ADSK])    10.004585\n",
       "                          Equity(70 [VBF])      0.168367\n",
       "                          Equity(76 [TAP])      1.116515\n",
       "                          Equity(84 [ACET])     0.442660\n",
       "                          Equity(100 [IEP])     0.675929\n",
       "                          Equity(106 [ACU])     0.909490\n",
       "                          Equity(110 [RAMP])    0.445436\n",
       "                          Equity(112 [ACY])     0.510807\n",
       "                          Equity(114 [ADBE])    4.727263"
      ]
     },
     "execution_count": 7,
     "metadata": {},
     "output_type": "execute_result"
    }
   ],
   "source": [
    "result = run_pipeline(make_pipeline(), '2017-12-27', '2017-12-27')\n",
    "result.head(20)"
   ]
  },
  {
   "cell_type": "markdown",
   "metadata": {},
   "source": [
    "### Default Inputs\n",
    "When writing a custom factor, we can set default `inputs` and `window_length` in our `CustomFactor` subclass. For example, let's define the `ThirtyDayMeanDifference` custom factor to compute the mean difference between two data columns over a trailing window using [numpy.nanmean](http://docs.scipy.org/doc/numpy-dev/reference/generated/numpy.nanmean.html). Let's set the default `inputs` to `[USEquityPricing.close, USEquityPricing.open]` and the default `window_length` to 30:"
   ]
  },
  {
   "cell_type": "code",
   "execution_count": 10,
   "metadata": {},
   "outputs": [],
   "source": [
    "class ThirtyDayMeanDifference(CustomFactor):\n",
    "    # Default inputs.\n",
    "    inputs = [USEquityPricing.close, USEquityPricing.open]\n",
    "    window_length = 30\n",
    "    def compute(self, today, asset_ids, out, close, open):\n",
    "        # Calculates the column-wise mean difference, ignoring NaNs\n",
    "        out[:] = numpy.nanmean(close - open, axis=0)"
   ]
  },
  {
   "cell_type": "markdown",
   "metadata": {},
   "source": [
    "<i>Remember in this case that `close` and `open` are each 30 x ~8000 2D [numpy arrays.](http://docs.scipy.org/doc/numpy-1.10.1/reference/arrays.ndarray.html)</i>\n",
    "\n",
    "If we call `ThirtyDayMeanDifference` without providing any arguments, it will use the defaults."
   ]
  },
  {
   "cell_type": "code",
   "execution_count": 13,
   "metadata": {},
   "outputs": [
    {
     "data": {
      "application/vnd.jupyter.widget-view+json": {
       "model_id": "",
       "version_major": 2,
       "version_minor": 0
      },
      "text/plain": []
     },
     "metadata": {},
     "output_type": "display_data"
    },
    {
     "data": {
      "text/html": [
       "<b>Pipeline Execution Time:</b> 0.71 Seconds"
      ],
      "text/plain": [
       "<IPython.core.display.HTML object>"
      ]
     },
     "metadata": {},
     "output_type": "display_data"
    },
    {
     "data": {
      "text/html": [
       "<div>\n",
       "<table border=\"1\" class=\"dataframe\">\n",
       "  <thead>\n",
       "    <tr style=\"text-align: right;\">\n",
       "      <th></th>\n",
       "      <th></th>\n",
       "      <th>close-open diff</th>\n",
       "    </tr>\n",
       "  </thead>\n",
       "  <tbody>\n",
       "    <tr>\n",
       "      <th rowspan=\"10\" valign=\"top\">2017-11-27 00:00:00+00:00</th>\n",
       "      <th>Equity(2 [HWM])</th>\n",
       "      <td>-0.112771</td>\n",
       "    </tr>\n",
       "    <tr>\n",
       "      <th>Equity(21 [AAME])</th>\n",
       "      <td>-0.022538</td>\n",
       "    </tr>\n",
       "    <tr>\n",
       "      <th>Equity(24 [AAPL])</th>\n",
       "      <td>0.319677</td>\n",
       "    </tr>\n",
       "    <tr>\n",
       "      <th>Equity(25 [HWM_PR])</th>\n",
       "      <td>0.335714</td>\n",
       "    </tr>\n",
       "    <tr>\n",
       "      <th>Equity(31 [ABAX])</th>\n",
       "      <td>0.050667</td>\n",
       "    </tr>\n",
       "    <tr>\n",
       "      <th>Equity(41 [ARCB])</th>\n",
       "      <td>0.088408</td>\n",
       "    </tr>\n",
       "    <tr>\n",
       "      <th>Equity(52 [ABM])</th>\n",
       "      <td>-0.036667</td>\n",
       "    </tr>\n",
       "    <tr>\n",
       "      <th>Equity(53 [ABMD])</th>\n",
       "      <td>0.477200</td>\n",
       "    </tr>\n",
       "    <tr>\n",
       "      <th>Equity(62 [ABT])</th>\n",
       "      <td>0.088500</td>\n",
       "    </tr>\n",
       "    <tr>\n",
       "      <th>Equity(64 [GOLD])</th>\n",
       "      <td>-0.084867</td>\n",
       "    </tr>\n",
       "  </tbody>\n",
       "</table>\n",
       "</div>"
      ],
      "text/plain": [
       "                                               close-open diff\n",
       "2017-11-27 00:00:00+00:00 Equity(2 [HWM])            -0.112771\n",
       "                          Equity(21 [AAME])          -0.022538\n",
       "                          Equity(24 [AAPL])           0.319677\n",
       "                          Equity(25 [HWM_PR])         0.335714\n",
       "                          Equity(31 [ABAX])           0.050667\n",
       "                          Equity(41 [ARCB])           0.088408\n",
       "                          Equity(52 [ABM])           -0.036667\n",
       "                          Equity(53 [ABMD])           0.477200\n",
       "                          Equity(62 [ABT])            0.088500\n",
       "                          Equity(64 [GOLD])          -0.084867"
      ]
     },
     "execution_count": 13,
     "metadata": {},
     "output_type": "execute_result"
    }
   ],
   "source": [
    "def make_pipeline():\n",
    "    # Computes the 30-day mean difference between the daily open and close prices.\n",
    "    close_open_diff = ThirtyDayMeanDifference()\n",
    "    \n",
    "    return Pipeline(columns = {'close-open diff': close_open_diff})\n",
    "\n",
    "run_pipeline(make_pipeline(), '2017-11-27', '2017-12-27').head(10)"
   ]
  },
  {
   "cell_type": "markdown",
   "metadata": {},
   "source": [
    "The defaults can be manually overridden by specifying arguments in the constructor call."
   ]
  },
  {
   "cell_type": "code",
   "execution_count": 15,
   "metadata": {},
   "outputs": [
    {
     "data": {
      "application/vnd.jupyter.widget-view+json": {
       "model_id": "",
       "version_major": 2,
       "version_minor": 0
      },
      "text/plain": []
     },
     "metadata": {},
     "output_type": "display_data"
    },
    {
     "data": {
      "text/html": [
       "<b>Pipeline Execution Time:</b> 0.77 Seconds"
      ],
      "text/plain": [
       "<IPython.core.display.HTML object>"
      ]
     },
     "metadata": {},
     "output_type": "display_data"
    },
    {
     "data": {
      "text/html": [
       "<div>\n",
       "<table border=\"1\" class=\"dataframe\">\n",
       "  <thead>\n",
       "    <tr style=\"text-align: right;\">\n",
       "      <th></th>\n",
       "      <th></th>\n",
       "      <th>high-low diff</th>\n",
       "    </tr>\n",
       "  </thead>\n",
       "  <tbody>\n",
       "    <tr>\n",
       "      <th rowspan=\"10\" valign=\"top\">2017-11-27 00:00:00+00:00</th>\n",
       "      <th>Equity(2 [HWM])</th>\n",
       "      <td>0.640800</td>\n",
       "    </tr>\n",
       "    <tr>\n",
       "      <th>Equity(21 [AAME])</th>\n",
       "      <td>0.144654</td>\n",
       "    </tr>\n",
       "    <tr>\n",
       "      <th>Equity(24 [AAPL])</th>\n",
       "      <td>2.177083</td>\n",
       "    </tr>\n",
       "    <tr>\n",
       "      <th>Equity(25 [HWM_PR])</th>\n",
       "      <td>0.524286</td>\n",
       "    </tr>\n",
       "    <tr>\n",
       "      <th>Equity(31 [ABAX])</th>\n",
       "      <td>1.313933</td>\n",
       "    </tr>\n",
       "    <tr>\n",
       "      <th>Equity(41 [ARCB])</th>\n",
       "      <td>1.228563</td>\n",
       "    </tr>\n",
       "    <tr>\n",
       "      <th>Equity(52 [ABM])</th>\n",
       "      <td>0.537233</td>\n",
       "    </tr>\n",
       "    <tr>\n",
       "      <th>Equity(53 [ABMD])</th>\n",
       "      <td>4.121467</td>\n",
       "    </tr>\n",
       "    <tr>\n",
       "      <th>Equity(62 [ABT])</th>\n",
       "      <td>0.702433</td>\n",
       "    </tr>\n",
       "    <tr>\n",
       "      <th>Equity(64 [GOLD])</th>\n",
       "      <td>0.277267</td>\n",
       "    </tr>\n",
       "  </tbody>\n",
       "</table>\n",
       "</div>"
      ],
      "text/plain": [
       "                                               high-low diff\n",
       "2017-11-27 00:00:00+00:00 Equity(2 [HWM])           0.640800\n",
       "                          Equity(21 [AAME])         0.144654\n",
       "                          Equity(24 [AAPL])         2.177083\n",
       "                          Equity(25 [HWM_PR])       0.524286\n",
       "                          Equity(31 [ABAX])         1.313933\n",
       "                          Equity(41 [ARCB])         1.228563\n",
       "                          Equity(52 [ABM])          0.537233\n",
       "                          Equity(53 [ABMD])         4.121467\n",
       "                          Equity(62 [ABT])          0.702433\n",
       "                          Equity(64 [GOLD])         0.277267"
      ]
     },
     "execution_count": 15,
     "metadata": {},
     "output_type": "execute_result"
    }
   ],
   "source": [
    "def make_pipeline():\n",
    "    # Computes the 30-day mean difference between the daily high and low prices.\n",
    "    high_low_diff = ThirtyDayMeanDifference(inputs=[USEquityPricing.high, USEquityPricing.low])\n",
    "    \n",
    "    return Pipeline(columns = {'high-low diff': high_low_diff})\n",
    "\n",
    "run_pipeline(make_pipeline(), '2017-11-27', '2017-12-27').head(10)"
   ]
  },
  {
   "cell_type": "markdown",
   "metadata": {},
   "source": [
    "### Further Example\n",
    "Let's take another example where we build a [momentum](http://www.investopedia.com/terms/m/momentum.asp) custom factor and use it to create a filter. We will then use that filter as a `screen` for our pipeline.\n",
    "\n",
    "Let's start by defining a `Momentum` factor to be the division of the most recent close price by the close price from `n` days ago where `n` is the `window_length`."
   ]
  },
  {
   "cell_type": "code",
   "execution_count": 16,
   "metadata": {},
   "outputs": [],
   "source": [
    "class Momentum(CustomFactor):\n",
    "    # Default inputs\n",
    "    inputs = [USEquityPricing.close]\n",
    "\n",
    "    # Compute momentum\n",
    "    def compute(self, today, assets, out, close):\n",
    "        out[:] = close[-1] / close[0]"
   ]
  },
  {
   "cell_type": "markdown",
   "metadata": {},
   "source": [
    "Now, let's instantiate our `Momentum` factor (twice) to create a 30-day momentum factor and a 60-day momentum factor. Let's also create a `positive_momentum` filter returning `True` for securities with both a positive 30-day momentum and a positive 60-day momentum."
   ]
  },
  {
   "cell_type": "code",
   "execution_count": 17,
   "metadata": {},
   "outputs": [],
   "source": [
    "thirty_day_momentum = Momentum(window_length=30)\n",
    "sixty_day_momentum = Momentum(window_length=60)\n",
    "\n",
    "positive_momentum = ((thirty_day_momentum >= 0) & (sixty_day_momentum >= 0))"
   ]
  },
  {
   "cell_type": "markdown",
   "metadata": {},
   "source": [
    "Next, let's add our momentum factors and our `positive_momentum` filter to `make_pipeline`. Let's also pass `positive_momentum` as a `screen` to our pipeline."
   ]
  },
  {
   "cell_type": "code",
   "execution_count": 20,
   "metadata": {},
   "outputs": [],
   "source": [
    "def make_pipeline():\n",
    "\n",
    "    thirty_day_momentum = Momentum(window_length=30)\n",
    "    sixty_day_momentum = Momentum(window_length=60)\n",
    "\n",
    "    positive_momentum = ((thirty_day_momentum >= 0) & (sixty_day_momentum >= 0))\n",
    "\n",
    "    std_dev = StdDev(inputs=[USEquityPricing.close], window_length=5)\n",
    "\n",
    "    return Pipeline(columns={\n",
    "                    'std dev': std_dev,\n",
    "                    'thirty day momentum': thirty_day_momentum,\n",
    "                    'sixty day momentum': sixty_day_momentum},\n",
    "                    screen=positive_momentum)"
   ]
  },
  {
   "cell_type": "markdown",
   "metadata": {},
   "source": [
    "Running this pipeline outputs the standard deviation and each of our momentum computations for securities with positive 10-day and 20-day momentum."
   ]
  },
  {
   "cell_type": "code",
   "execution_count": 21,
   "metadata": {},
   "outputs": [
    {
     "data": {
      "application/vnd.jupyter.widget-view+json": {
       "model_id": "",
       "version_major": 2,
       "version_minor": 0
      },
      "text/plain": []
     },
     "metadata": {},
     "output_type": "display_data"
    },
    {
     "data": {
      "text/html": [
       "<b>Pipeline Execution Time:</b> 0.51 Seconds"
      ],
      "text/plain": [
       "<IPython.core.display.HTML object>"
      ]
     },
     "metadata": {},
     "output_type": "display_data"
    },
    {
     "data": {
      "text/html": [
       "<div>\n",
       "<table border=\"1\" class=\"dataframe\">\n",
       "  <thead>\n",
       "    <tr style=\"text-align: right;\">\n",
       "      <th></th>\n",
       "      <th></th>\n",
       "      <th>sixty day momentum</th>\n",
       "      <th>std dev</th>\n",
       "      <th>thirty day momentum</th>\n",
       "    </tr>\n",
       "  </thead>\n",
       "  <tbody>\n",
       "    <tr>\n",
       "      <th rowspan=\"20\" valign=\"top\">2017-12-27 00:00:00+00:00</th>\n",
       "      <th>Equity(2 [HWM])</th>\n",
       "      <td>1.046868</td>\n",
       "      <td>0.527811</td>\n",
       "      <td>1.137873</td>\n",
       "    </tr>\n",
       "    <tr>\n",
       "      <th>Equity(24 [AAPL])</th>\n",
       "      <td>1.112952</td>\n",
       "      <td>1.686416</td>\n",
       "      <td>0.980400</td>\n",
       "    </tr>\n",
       "    <tr>\n",
       "      <th>Equity(31 [ABAX])</th>\n",
       "      <td>1.086465</td>\n",
       "      <td>0.319837</td>\n",
       "      <td>1.086465</td>\n",
       "    </tr>\n",
       "    <tr>\n",
       "      <th>Equity(41 [ARCB])</th>\n",
       "      <td>1.082004</td>\n",
       "      <td>0.273130</td>\n",
       "      <td>1.157480</td>\n",
       "    </tr>\n",
       "    <tr>\n",
       "      <th>Equity(52 [ABM])</th>\n",
       "      <td>0.907375</td>\n",
       "      <td>0.133776</td>\n",
       "      <td>0.953946</td>\n",
       "    </tr>\n",
       "    <tr>\n",
       "      <th>Equity(53 [ABMD])</th>\n",
       "      <td>1.116843</td>\n",
       "      <td>1.640700</td>\n",
       "      <td>0.971965</td>\n",
       "    </tr>\n",
       "    <tr>\n",
       "      <th>Equity(62 [ABT])</th>\n",
       "      <td>1.066469</td>\n",
       "      <td>0.074940</td>\n",
       "      <td>1.030193</td>\n",
       "    </tr>\n",
       "    <tr>\n",
       "      <th>Equity(64 [GOLD])</th>\n",
       "      <td>0.905764</td>\n",
       "      <td>0.099750</td>\n",
       "      <td>1.045911</td>\n",
       "    </tr>\n",
       "    <tr>\n",
       "      <th>Equity(66 [AB])</th>\n",
       "      <td>1.077104</td>\n",
       "      <td>0.040000</td>\n",
       "      <td>1.030364</td>\n",
       "    </tr>\n",
       "    <tr>\n",
       "      <th>Equity(67 [ADSK])</th>\n",
       "      <td>0.923077</td>\n",
       "      <td>0.619206</td>\n",
       "      <td>0.832798</td>\n",
       "    </tr>\n",
       "    <tr>\n",
       "      <th>Equity(70 [VBF])</th>\n",
       "      <td>0.990750</td>\n",
       "      <td>0.050359</td>\n",
       "      <td>0.999323</td>\n",
       "    </tr>\n",
       "    <tr>\n",
       "      <th>Equity(76 [TAP])</th>\n",
       "      <td>1.001817</td>\n",
       "      <td>0.436688</td>\n",
       "      <td>1.017308</td>\n",
       "    </tr>\n",
       "    <tr>\n",
       "      <th>Equity(84 [ACET])</th>\n",
       "      <td>0.901190</td>\n",
       "      <td>0.095708</td>\n",
       "      <td>1.173152</td>\n",
       "    </tr>\n",
       "    <tr>\n",
       "      <th>Equity(100 [IEP])</th>\n",
       "      <td>1.004479</td>\n",
       "      <td>0.693484</td>\n",
       "      <td>0.993458</td>\n",
       "    </tr>\n",
       "    <tr>\n",
       "      <th>Equity(106 [ACU])</th>\n",
       "      <td>0.966495</td>\n",
       "      <td>0.181648</td>\n",
       "      <td>1.029015</td>\n",
       "    </tr>\n",
       "    <tr>\n",
       "      <th>Equity(110 [RAMP])</th>\n",
       "      <td>1.108731</td>\n",
       "      <td>0.076837</td>\n",
       "      <td>1.047546</td>\n",
       "    </tr>\n",
       "    <tr>\n",
       "      <th>Equity(112 [ACY])</th>\n",
       "      <td>1.038062</td>\n",
       "      <td>0.144568</td>\n",
       "      <td>1.127820</td>\n",
       "    </tr>\n",
       "    <tr>\n",
       "      <th>Equity(114 [ADBE])</th>\n",
       "      <td>1.179342</td>\n",
       "      <td>0.298221</td>\n",
       "      <td>0.959257</td>\n",
       "    </tr>\n",
       "    <tr>\n",
       "      <th>Equity(117 [AEY])</th>\n",
       "      <td>0.986301</td>\n",
       "      <td>0.010048</td>\n",
       "      <td>1.021277</td>\n",
       "    </tr>\n",
       "    <tr>\n",
       "      <th>Equity(122 [ADI])</th>\n",
       "      <td>1.038434</td>\n",
       "      <td>0.319036</td>\n",
       "      <td>0.989650</td>\n",
       "    </tr>\n",
       "  </tbody>\n",
       "</table>\n",
       "</div>"
      ],
      "text/plain": [
       "                                              sixty day momentum   std dev  \\\n",
       "2017-12-27 00:00:00+00:00 Equity(2 [HWM])               1.046868  0.527811   \n",
       "                          Equity(24 [AAPL])             1.112952  1.686416   \n",
       "                          Equity(31 [ABAX])             1.086465  0.319837   \n",
       "                          Equity(41 [ARCB])             1.082004  0.273130   \n",
       "                          Equity(52 [ABM])              0.907375  0.133776   \n",
       "                          Equity(53 [ABMD])             1.116843  1.640700   \n",
       "                          Equity(62 [ABT])              1.066469  0.074940   \n",
       "                          Equity(64 [GOLD])             0.905764  0.099750   \n",
       "                          Equity(66 [AB])               1.077104  0.040000   \n",
       "                          Equity(67 [ADSK])             0.923077  0.619206   \n",
       "                          Equity(70 [VBF])              0.990750  0.050359   \n",
       "                          Equity(76 [TAP])              1.001817  0.436688   \n",
       "                          Equity(84 [ACET])             0.901190  0.095708   \n",
       "                          Equity(100 [IEP])             1.004479  0.693484   \n",
       "                          Equity(106 [ACU])             0.966495  0.181648   \n",
       "                          Equity(110 [RAMP])            1.108731  0.076837   \n",
       "                          Equity(112 [ACY])             1.038062  0.144568   \n",
       "                          Equity(114 [ADBE])            1.179342  0.298221   \n",
       "                          Equity(117 [AEY])             0.986301  0.010048   \n",
       "                          Equity(122 [ADI])             1.038434  0.319036   \n",
       "\n",
       "                                              thirty day momentum  \n",
       "2017-12-27 00:00:00+00:00 Equity(2 [HWM])                1.137873  \n",
       "                          Equity(24 [AAPL])              0.980400  \n",
       "                          Equity(31 [ABAX])              1.086465  \n",
       "                          Equity(41 [ARCB])              1.157480  \n",
       "                          Equity(52 [ABM])               0.953946  \n",
       "                          Equity(53 [ABMD])              0.971965  \n",
       "                          Equity(62 [ABT])               1.030193  \n",
       "                          Equity(64 [GOLD])              1.045911  \n",
       "                          Equity(66 [AB])                1.030364  \n",
       "                          Equity(67 [ADSK])              0.832798  \n",
       "                          Equity(70 [VBF])               0.999323  \n",
       "                          Equity(76 [TAP])               1.017308  \n",
       "                          Equity(84 [ACET])              1.173152  \n",
       "                          Equity(100 [IEP])              0.993458  \n",
       "                          Equity(106 [ACU])              1.029015  \n",
       "                          Equity(110 [RAMP])             1.047546  \n",
       "                          Equity(112 [ACY])              1.127820  \n",
       "                          Equity(114 [ADBE])             0.959257  \n",
       "                          Equity(117 [AEY])              1.021277  \n",
       "                          Equity(122 [ADI])              0.989650  "
      ]
     },
     "execution_count": 21,
     "metadata": {},
     "output_type": "execute_result"
    }
   ],
   "source": [
    "result = run_pipeline(make_pipeline(), '2017-12-27', '2017-12-27')\n",
    "result.head(20)"
   ]
  },
  {
   "cell_type": "markdown",
   "metadata": {},
   "source": [
    "Custom factors allow us to define custom computations in a pipeline. They are frequently the best way to perform computations on [partner datasets](https://www.quantopian.com/data) or on multiple data columns. The full documentation for CustomFactors is available [here](https://www.quantopian.com/help#custom-factors).\n",
    "\n",
    "In the next lesson, we'll use everything we've learned so far to create a pipeline for an algorithm."
   ]
  }
 ],
 "metadata": {
  "kernelspec": {
   "display_name": "Python 3.5",
   "language": "python",
   "name": "py35"
  },
  "language_info": {
   "codemirror_mode": {
    "name": "ipython",
    "version": 3
   },
   "file_extension": ".py",
   "mimetype": "text/x-python",
   "name": "python",
   "nbconvert_exporter": "python",
   "pygments_lexer": "ipython3",
   "version": "3.5.9"
  }
 },
 "nbformat": 4,
 "nbformat_minor": 1
}