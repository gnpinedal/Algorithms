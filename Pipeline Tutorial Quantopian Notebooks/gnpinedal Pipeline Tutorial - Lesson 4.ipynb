{
 "cells": [
  {
   "cell_type": "markdown",
   "metadata": {},
   "source": [
    "##Combining Factors\n",
    "Factors can be combined, both with other Factors and with scalar values, via any of the builtin mathematical operators (+, -, *, etc). This makes it easy to write complex expressions that combine multiple Factors. For example, constructing a Factor that computes the average of two other Factors is simply:\n",
    "```\n",
    ">>> f1 = SomeFactor(...)\n",
    ">>> f2 = SomeOtherFactor(...)\n",
    ">>> average = (f1 + f2) / 2.0\n",
    "```\n",
    "In this lesson, we will create a pipeline that creates a `relative_difference` factor by combining a 15-day average factor and a 60-day average factor. \n",
    "\n",
    "As usual, let's start with our imports:"
   ]
  },
  {
   "cell_type": "code",
   "execution_count": 1,
   "metadata": {},
   "outputs": [],
   "source": [
    "from quantopian.pipeline import Pipeline\n",
    "from quantopian.research import run_pipeline\n",
    "from quantopian.pipeline.data.builtin import USEquityPricing\n",
    "from quantopian.pipeline.factors import SimpleMovingAverage"
   ]
  },
  {
   "cell_type": "markdown",
   "metadata": {},
   "source": [
    "For this example, we need two factors: a 15-day mean close price factor, and a 60-day one:"
   ]
  },
  {
   "cell_type": "code",
   "execution_count": 2,
   "metadata": {},
   "outputs": [],
   "source": [
    "mean_close_15 = SimpleMovingAverage(inputs=[USEquityPricing.close], window_length=15)\n",
    "mean_close_60 = SimpleMovingAverage(inputs=[USEquityPricing.close], window_length=60)"
   ]
  },
  {
   "cell_type": "markdown",
   "metadata": {},
   "source": [
    "Then, let's create a percent difference factor by combining our `mean_close_60` factor with our `mean_close_15` factor."
   ]
  },
  {
   "cell_type": "code",
   "execution_count": 3,
   "metadata": {},
   "outputs": [],
   "source": [
    "percent_difference = (mean_close_15 - mean_close_60) / mean_close_60"
   ]
  },
  {
   "cell_type": "markdown",
   "metadata": {},
   "source": [
    "In this example, `percent_difference` is still a `Factor` even though it's composed as a combination of more primitive factors. We can add `percent_difference` as a column in our pipeline. Let's define `make_pipeline` to create a pipeline with `percent_difference` as a column (and not the mean close factors):"
   ]
  },
  {
   "cell_type": "code",
   "execution_count": 4,
   "metadata": {},
   "outputs": [],
   "source": [
    "def make_pipeline():\n",
    "\n",
    "    mean_close_15 = SimpleMovingAverage(inputs=[USEquityPricing.close], window_length=15)\n",
    "    mean_close_60 = SimpleMovingAverage(inputs=[USEquityPricing.close], window_length=60)\n",
    "\n",
    "    percent_difference = (mean_close_15 - mean_close_60) / mean_close_60\n",
    "\n",
    "    return Pipeline(\n",
    "        columns={\n",
    "            'percent_difference': percent_difference\n",
    "        }\n",
    "    )"
   ]
  },
  {
   "cell_type": "markdown",
   "metadata": {},
   "source": [
    "Let's see what the new output looks like:"
   ]
  },
  {
   "cell_type": "code",
   "execution_count": 6,
   "metadata": {},
   "outputs": [
    {
     "data": {
      "application/vnd.jupyter.widget-view+json": {
       "model_id": "",
       "version_major": 2,
       "version_minor": 0
      },
      "text/plain": []
     },
     "metadata": {},
     "output_type": "display_data"
    },
    {
     "data": {
      "text/html": [
       "<b>Pipeline Execution Time:</b> 0.46 Seconds"
      ],
      "text/plain": [
       "<IPython.core.display.HTML object>"
      ]
     },
     "metadata": {},
     "output_type": "display_data"
    },
    {
     "data": {
      "text/html": [
       "<div>\n",
       "<table border=\"1\" class=\"dataframe\">\n",
       "  <thead>\n",
       "    <tr style=\"text-align: right;\">\n",
       "      <th></th>\n",
       "      <th></th>\n",
       "      <th>percent_difference</th>\n",
       "    </tr>\n",
       "  </thead>\n",
       "  <tbody>\n",
       "    <tr>\n",
       "      <th rowspan=\"10\" valign=\"top\">2017-12-27 00:00:00+00:00</th>\n",
       "      <th>Equity(2 [HWM])</th>\n",
       "      <td>0.003795</td>\n",
       "    </tr>\n",
       "    <tr>\n",
       "      <th>Equity(21 [AAME])</th>\n",
       "      <td>0.009175</td>\n",
       "    </tr>\n",
       "    <tr>\n",
       "      <th>Equity(24 [AAPL])</th>\n",
       "      <td>0.034207</td>\n",
       "    </tr>\n",
       "    <tr>\n",
       "      <th>Equity(25 [HWM_PR])</th>\n",
       "      <td>0.001616</td>\n",
       "    </tr>\n",
       "    <tr>\n",
       "      <th>Equity(31 [ABAX])</th>\n",
       "      <td>0.013647</td>\n",
       "    </tr>\n",
       "    <tr>\n",
       "      <th>Equity(41 [ARCB])</th>\n",
       "      <td>0.082814</td>\n",
       "    </tr>\n",
       "    <tr>\n",
       "      <th>Equity(52 [ABM])</th>\n",
       "      <td>-0.019150</td>\n",
       "    </tr>\n",
       "    <tr>\n",
       "      <th>Equity(53 [ABMD])</th>\n",
       "      <td>0.022189</td>\n",
       "    </tr>\n",
       "    <tr>\n",
       "      <th>Equity(62 [ABT])</th>\n",
       "      <td>0.007841</td>\n",
       "    </tr>\n",
       "    <tr>\n",
       "      <th>Equity(64 [GOLD])</th>\n",
       "      <td>-0.046451</td>\n",
       "    </tr>\n",
       "  </tbody>\n",
       "</table>\n",
       "</div>"
      ],
      "text/plain": [
       "                                               percent_difference\n",
       "2017-12-27 00:00:00+00:00 Equity(2 [HWM])                0.003795\n",
       "                          Equity(21 [AAME])              0.009175\n",
       "                          Equity(24 [AAPL])              0.034207\n",
       "                          Equity(25 [HWM_PR])            0.001616\n",
       "                          Equity(31 [ABAX])              0.013647\n",
       "                          Equity(41 [ARCB])              0.082814\n",
       "                          Equity(52 [ABM])              -0.019150\n",
       "                          Equity(53 [ABMD])              0.022189\n",
       "                          Equity(62 [ABT])               0.007841\n",
       "                          Equity(64 [GOLD])             -0.046451"
      ]
     },
     "execution_count": 6,
     "metadata": {},
     "output_type": "execute_result"
    }
   ],
   "source": [
    "result = run_pipeline(make_pipeline(), '2017-12-27', '2017-12-27')\n",
    "result.head(10)"
   ]
  },
  {
   "cell_type": "markdown",
   "metadata": {},
   "source": [
    "In the next lesson, we will learn about filters."
   ]
  }
 ],
 "metadata": {
  "kernelspec": {
   "display_name": "Python 3.5",
   "language": "python",
   "name": "py35"
  },
  "language_info": {
   "codemirror_mode": {
    "name": "ipython",
    "version": 3
   },
   "file_extension": ".py",
   "mimetype": "text/x-python",
   "name": "python",
   "nbconvert_exporter": "python",
   "pygments_lexer": "ipython3",
   "version": "3.5.9"
  }
 },
 "nbformat": 4,
 "nbformat_minor": 1
}