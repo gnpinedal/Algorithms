{
 "cells": [
  {
   "cell_type": "markdown",
   "metadata": {},
   "source": [
    "##Creating a Pipeline\n",
    "In this lesson, we will take a look at creating an empty pipeline. First, let's import the Pipeline class:"
   ]
  },
  {
   "cell_type": "code",
   "execution_count": 1,
   "metadata": {},
   "outputs": [],
   "source": [
    "from quantopian.pipeline import Pipeline"
   ]
  },
  {
   "cell_type": "markdown",
   "metadata": {},
   "source": [
    "In a new cell, let's define a function to create our pipeline. Wrapping our pipeline creation in a function sets up a structure for more complex pipelines that we will see later on. For now, this function simply returns an empty pipeline:"
   ]
  },
  {
   "cell_type": "code",
   "execution_count": 2,
   "metadata": {},
   "outputs": [],
   "source": [
    "def make_pipeline():\n",
    "    return Pipeline()"
   ]
  },
  {
   "cell_type": "markdown",
   "metadata": {},
   "source": [
    "In a new cell, let's instantiate our pipeline by running `make_pipeline()`:"
   ]
  },
  {
   "cell_type": "code",
   "execution_count": 3,
   "metadata": {},
   "outputs": [],
   "source": [
    "my_pipe = make_pipeline()"
   ]
  },
  {
   "cell_type": "markdown",
   "metadata": {},
   "source": [
    "###Running a Pipeline\n",
    "\n",
    "Now that we have a reference to an empty Pipeline, `my_pipe` let's run it to see what it looks like. Before running our pipeline, we first need to import `run_pipeline`, a research-only function that allows us to run a pipeline over a specified time period."
   ]
  },
  {
   "cell_type": "code",
   "execution_count": 4,
   "metadata": {},
   "outputs": [],
   "source": [
    "from quantopian.research import run_pipeline"
   ]
  },
  {
   "cell_type": "markdown",
   "metadata": {},
   "source": [
    "Let's run our pipeline for one day (2017-12-27) with `run_pipeline` and display it. Note that the 2nd and 3rd arguments are the start and end dates of the simulation, respectively."
   ]
  },
  {
   "cell_type": "code",
   "execution_count": 7,
   "metadata": {},
   "outputs": [
    {
     "data": {
      "application/vnd.jupyter.widget-view+json": {
       "model_id": "",
       "version_major": 2,
       "version_minor": 0
      },
      "text/plain": []
     },
     "metadata": {},
     "output_type": "display_data"
    },
    {
     "data": {
      "text/html": [
       "<b>Pipeline Execution Time:</b> 0.22 Seconds"
      ],
      "text/plain": [
       "<IPython.core.display.HTML object>"
      ]
     },
     "metadata": {},
     "output_type": "display_data"
    }
   ],
   "source": [
    "result = run_pipeline(my_pipe, '2017-12-27', '2017-12-27')"
   ]
  },
  {
   "cell_type": "markdown",
   "metadata": {},
   "source": [
    "A call to `run_pipeline` returns a [pandas DataFrame](http://pandas.pydata.org/pandas-docs/stable/generated/pandas.DataFrame.html) indexed by date and securities. Let's see what the empty pipeline looks like:"
   ]
  },
  {
   "cell_type": "code",
   "execution_count": 8,
   "metadata": {},
   "outputs": [
    {
     "data": {
      "text/html": [
       "<div>\n",
       "<table border=\"1\" class=\"dataframe\">\n",
       "  <thead>\n",
       "    <tr style=\"text-align: right;\">\n",
       "      <th></th>\n",
       "      <th></th>\n",
       "    </tr>\n",
       "  </thead>\n",
       "  <tbody>\n",
       "    <tr>\n",
       "      <th rowspan=\"61\" valign=\"top\">2017-12-27 00:00:00+00:00</th>\n",
       "      <th>Equity(2 [HWM])</th>\n",
       "    </tr>\n",
       "    <tr>\n",
       "      <th>Equity(21 [AAME])</th>\n",
       "    </tr>\n",
       "    <tr>\n",
       "      <th>Equity(24 [AAPL])</th>\n",
       "    </tr>\n",
       "    <tr>\n",
       "      <th>Equity(25 [HWM_PR])</th>\n",
       "    </tr>\n",
       "    <tr>\n",
       "      <th>Equity(31 [ABAX])</th>\n",
       "    </tr>\n",
       "    <tr>\n",
       "      <th>Equity(41 [ARCB])</th>\n",
       "    </tr>\n",
       "    <tr>\n",
       "      <th>Equity(52 [ABM])</th>\n",
       "    </tr>\n",
       "    <tr>\n",
       "      <th>Equity(53 [ABMD])</th>\n",
       "    </tr>\n",
       "    <tr>\n",
       "      <th>Equity(62 [ABT])</th>\n",
       "    </tr>\n",
       "    <tr>\n",
       "      <th>Equity(64 [GOLD])</th>\n",
       "    </tr>\n",
       "    <tr>\n",
       "      <th>Equity(66 [AB])</th>\n",
       "    </tr>\n",
       "    <tr>\n",
       "      <th>Equity(67 [ADSK])</th>\n",
       "    </tr>\n",
       "    <tr>\n",
       "      <th>Equity(70 [VBF])</th>\n",
       "    </tr>\n",
       "    <tr>\n",
       "      <th>Equity(76 [TAP])</th>\n",
       "    </tr>\n",
       "    <tr>\n",
       "      <th>Equity(84 [ACET])</th>\n",
       "    </tr>\n",
       "    <tr>\n",
       "      <th>Equity(100 [IEP])</th>\n",
       "    </tr>\n",
       "    <tr>\n",
       "      <th>Equity(106 [ACU])</th>\n",
       "    </tr>\n",
       "    <tr>\n",
       "      <th>Equity(110 [RAMP])</th>\n",
       "    </tr>\n",
       "    <tr>\n",
       "      <th>Equity(112 [ACY])</th>\n",
       "    </tr>\n",
       "    <tr>\n",
       "      <th>Equity(114 [ADBE])</th>\n",
       "    </tr>\n",
       "    <tr>\n",
       "      <th>Equity(117 [AEY])</th>\n",
       "    </tr>\n",
       "    <tr>\n",
       "      <th>Equity(122 [ADI])</th>\n",
       "    </tr>\n",
       "    <tr>\n",
       "      <th>Equity(128 [ADM])</th>\n",
       "    </tr>\n",
       "    <tr>\n",
       "      <th>Equity(149 [ADX])</th>\n",
       "    </tr>\n",
       "    <tr>\n",
       "      <th>Equity(153 [AE])</th>\n",
       "    </tr>\n",
       "    <tr>\n",
       "      <th>Equity(154 [AEM])</th>\n",
       "    </tr>\n",
       "    <tr>\n",
       "      <th>Equity(157 [AEG])</th>\n",
       "    </tr>\n",
       "    <tr>\n",
       "      <th>Equity(161 [AEP])</th>\n",
       "    </tr>\n",
       "    <tr>\n",
       "      <th>Equity(166 [AES])</th>\n",
       "    </tr>\n",
       "    <tr>\n",
       "      <th>Equity(168 [AET])</th>\n",
       "    </tr>\n",
       "    <tr>\n",
       "      <th>...</th>\n",
       "    </tr>\n",
       "    <tr>\n",
       "      <th>Equity(51570 [DGBP])</th>\n",
       "    </tr>\n",
       "    <tr>\n",
       "      <th>Equity(51571 [UAUD])</th>\n",
       "    </tr>\n",
       "    <tr>\n",
       "      <th>Equity(51573 [UGBP])</th>\n",
       "    </tr>\n",
       "    <tr>\n",
       "      <th>Equity(51574 [UCHF])</th>\n",
       "    </tr>\n",
       "    <tr>\n",
       "      <th>Equity(51575 [UEUR])</th>\n",
       "    </tr>\n",
       "    <tr>\n",
       "      <th>Equity(51576 [CASA])</th>\n",
       "    </tr>\n",
       "    <tr>\n",
       "      <th>Equity(51577 [FTNW])</th>\n",
       "    </tr>\n",
       "    <tr>\n",
       "      <th>Equity(51578 [LFIN])</th>\n",
       "    </tr>\n",
       "    <tr>\n",
       "      <th>Equity(51579 [USAI])</th>\n",
       "    </tr>\n",
       "    <tr>\n",
       "      <th>Equity(51580 [NMRK])</th>\n",
       "    </tr>\n",
       "    <tr>\n",
       "      <th>Equity(51581 [ICLK])</th>\n",
       "    </tr>\n",
       "    <tr>\n",
       "      <th>Equity(51582 [HMOP])</th>\n",
       "    </tr>\n",
       "    <tr>\n",
       "      <th>Equity(51583 [RILY_G])</th>\n",
       "    </tr>\n",
       "    <tr>\n",
       "      <th>Equity(51584 [VNO_PRM])</th>\n",
       "    </tr>\n",
       "    <tr>\n",
       "      <th>Equity(51585 [COWN_Z])</th>\n",
       "    </tr>\n",
       "    <tr>\n",
       "      <th>Equity(51587 [CSWC_L])</th>\n",
       "    </tr>\n",
       "    <tr>\n",
       "      <th>Equity(51590 [SRG_PRA])</th>\n",
       "    </tr>\n",
       "    <tr>\n",
       "      <th>Equity(51591 [DOGZ])</th>\n",
       "    </tr>\n",
       "    <tr>\n",
       "      <th>Equity(51593 [LX])</th>\n",
       "    </tr>\n",
       "    <tr>\n",
       "      <th>Equity(51594 [JPBI])</th>\n",
       "    </tr>\n",
       "    <tr>\n",
       "      <th>Equity(51595 [KIM_PRM])</th>\n",
       "    </tr>\n",
       "    <tr>\n",
       "      <th>Equity(51596 [WBS_PRF])</th>\n",
       "    </tr>\n",
       "    <tr>\n",
       "      <th>Equity(51597 [ESTR_W])</th>\n",
       "    </tr>\n",
       "    <tr>\n",
       "      <th>Equity(51598 [ESTR])</th>\n",
       "    </tr>\n",
       "    <tr>\n",
       "      <th>Equity(51599 [DLPN_W])</th>\n",
       "    </tr>\n",
       "    <tr>\n",
       "      <th>Equity(51600 [WCHN])</th>\n",
       "    </tr>\n",
       "    <tr>\n",
       "      <th>Equity(51601 [WBAL])</th>\n",
       "    </tr>\n",
       "    <tr>\n",
       "      <th>Equity(51602 [LDRS])</th>\n",
       "    </tr>\n",
       "    <tr>\n",
       "      <th>Equity(51603 [STNL_W])</th>\n",
       "    </tr>\n",
       "    <tr>\n",
       "      <th>Equity(51604 [STNL])</th>\n",
       "    </tr>\n",
       "  </tbody>\n",
       "</table>\n",
       "<p>8520 rows × 0 columns</p>\n",
       "</div>"
      ],
      "text/plain": [
       "Empty DataFrame\n",
       "Columns: []\n",
       "Index: [(2017-12-27 00:00:00+00:00, Equity(2 [HWM])), (2017-12-27 00:00:00+00:00, Equity(21 [AAME])), (2017-12-27 00:00:00+00:00, Equity(24 [AAPL])), (2017-12-27 00:00:00+00:00, Equity(25 [HWM_PR])), (2017-12-27 00:00:00+00:00, Equity(31 [ABAX])), (2017-12-27 00:00:00+00:00, Equity(41 [ARCB])), (2017-12-27 00:00:00+00:00, Equity(52 [ABM])), (2017-12-27 00:00:00+00:00, Equity(53 [ABMD])), (2017-12-27 00:00:00+00:00, Equity(62 [ABT])), (2017-12-27 00:00:00+00:00, Equity(64 [GOLD])), (2017-12-27 00:00:00+00:00, Equity(66 [AB])), (2017-12-27 00:00:00+00:00, Equity(67 [ADSK])), (2017-12-27 00:00:00+00:00, Equity(70 [VBF])), (2017-12-27 00:00:00+00:00, Equity(76 [TAP])), (2017-12-27 00:00:00+00:00, Equity(84 [ACET])), (2017-12-27 00:00:00+00:00, Equity(100 [IEP])), (2017-12-27 00:00:00+00:00, Equity(106 [ACU])), (2017-12-27 00:00:00+00:00, Equity(110 [RAMP])), (2017-12-27 00:00:00+00:00, Equity(112 [ACY])), (2017-12-27 00:00:00+00:00, Equity(114 [ADBE])), (2017-12-27 00:00:00+00:00, Equity(117 [AEY])), (2017-12-27 00:00:00+00:00, Equity(122 [ADI])), (2017-12-27 00:00:00+00:00, Equity(128 [ADM])), (2017-12-27 00:00:00+00:00, Equity(149 [ADX])), (2017-12-27 00:00:00+00:00, Equity(153 [AE])), (2017-12-27 00:00:00+00:00, Equity(154 [AEM])), (2017-12-27 00:00:00+00:00, Equity(157 [AEG])), (2017-12-27 00:00:00+00:00, Equity(161 [AEP])), (2017-12-27 00:00:00+00:00, Equity(166 [AES])), (2017-12-27 00:00:00+00:00, Equity(168 [AET])), (2017-12-27 00:00:00+00:00, Equity(185 [AFL])), (2017-12-27 00:00:00+00:00, Equity(192 [ATAX])), (2017-12-27 00:00:00+00:00, Equity(197 [AGCO])), (2017-12-27 00:00:00+00:00, Equity(216 [HES])), (2017-12-27 00:00:00+00:00, Equity(225 [AHPI])), (2017-12-27 00:00:00+00:00, Equity(239 [AIG])), (2017-12-27 00:00:00+00:00, Equity(247 [AIN])), (2017-12-27 00:00:00+00:00, Equity(253 [AIR])), (2017-12-27 00:00:00+00:00, Equity(266 [AJG])), (2017-12-27 00:00:00+00:00, Equity(270 [AKRX])), (2017-12-27 00:00:00+00:00, Equity(283 [ALCO])), (2017-12-27 00:00:00+00:00, Equity(289 [MATX])), (2017-12-27 00:00:00+00:00, Equity(300 [ALK])), (2017-12-27 00:00:00+00:00, Equity(301 [ALKS])), (2017-12-27 00:00:00+00:00, Equity(311 [ALOG])), (2017-12-27 00:00:00+00:00, Equity(312 [ALOT])), (2017-12-27 00:00:00+00:00, Equity(332 [ALX])), (2017-12-27 00:00:00+00:00, Equity(337 [AMAT])), (2017-12-27 00:00:00+00:00, Equity(351 [AMD])), (2017-12-27 00:00:00+00:00, Equity(353 [AME])), (2017-12-27 00:00:00+00:00, Equity(357 [TWX])), (2017-12-27 00:00:00+00:00, Equity(366 [AVD])), (2017-12-27 00:00:00+00:00, Equity(368 [AMGN])), (2017-12-27 00:00:00+00:00, Equity(371 [TVTY])), (2017-12-27 00:00:00+00:00, Equity(392 [AMS])), (2017-12-27 00:00:00+00:00, Equity(393 [AMSC])), (2017-12-27 00:00:00+00:00, Equity(397 [AMSW_A])), (2017-12-27 00:00:00+00:00, Equity(405 [AMWD])), (2017-12-27 00:00:00+00:00, Equity(410 [AN])), (2017-12-27 00:00:00+00:00, Equity(412 [ANAT])), (2017-12-27 00:00:00+00:00, Equity(438 [AON])), (2017-12-27 00:00:00+00:00, Equity(447 [AP])), (2017-12-27 00:00:00+00:00, Equity(448 [APA])), (2017-12-27 00:00:00+00:00, Equity(450 [CLFD])), (2017-12-27 00:00:00+00:00, Equity(451 [APB])), (2017-12-27 00:00:00+00:00, Equity(455 [APC])), (2017-12-27 00:00:00+00:00, Equity(460 [APD])), (2017-12-27 00:00:00+00:00, Equity(465 [APH])), (2017-12-27 00:00:00+00:00, Equity(474 [APOG])), (2017-12-27 00:00:00+00:00, Equity(484 [EPAC])), (2017-12-27 00:00:00+00:00, Equity(523 [AAN])), (2017-12-27 00:00:00+00:00, Equity(526 [AROW])), (2017-12-27 00:00:00+00:00, Equity(535 [ARTW])), (2017-12-27 00:00:00+00:00, Equity(538 [ARW])), (2017-12-27 00:00:00+00:00, Equity(542 [ASA])), (2017-12-27 00:00:00+00:00, Equity(547 [ASB])), (2017-12-27 00:00:00+00:00, Equity(557 [ASGN])), (2017-12-27 00:00:00+00:00, Equity(559 [ASH])), (2017-12-27 00:00:00+00:00, Equity(576 [ASR])), (2017-12-27 00:00:00+00:00, Equity(579 [ASTE])), (2017-12-27 00:00:00+00:00, Equity(600 [OA])), (2017-12-27 00:00:00+00:00, Equity(610 [ATNI])), (2017-12-27 00:00:00+00:00, Equity(612 [ATO])), (2017-12-27 00:00:00+00:00, Equity(617 [ATRO])), (2017-12-27 00:00:00+00:00, Equity(629 [AU])), (2017-12-27 00:00:00+00:00, Equity(630 [ADP])), (2017-12-27 00:00:00+00:00, Equity(659 [AMAG])), (2017-12-27 00:00:00+00:00, Equity(660 [AVP])), (2017-12-27 00:00:00+00:00, Equity(661 [AVT])), (2017-12-27 00:00:00+00:00, Equity(662 [AVHI])), (2017-12-27 00:00:00+00:00, Equity(663 [AVY])), (2017-12-27 00:00:00+00:00, Equity(677 [AXAS])), (2017-12-27 00:00:00+00:00, Equity(679 [AXP])), (2017-12-27 00:00:00+00:00, Equity(680 [AXR])), (2017-12-27 00:00:00+00:00, Equity(693 [AZO])), (2017-12-27 00:00:00+00:00, Equity(694 [AZZ])), (2017-12-27 00:00:00+00:00, Equity(697 [B])), (2017-12-27 00:00:00+00:00, Equity(698 [BA])), (2017-12-27 00:00:00+00:00, Equity(700 [BAC])), (2017-12-27 00:00:00+00:00, Equity(734 [BAX])), ...]\n",
       "\n",
       "[8520 rows x 0 columns]"
      ]
     },
     "execution_count": 8,
     "metadata": {},
     "output_type": "execute_result"
    }
   ],
   "source": [
    "result"
   ]
  },
  {
   "cell_type": "markdown",
   "metadata": {},
   "source": [
    "The output of an empty pipeline is a DataFrame with no columns. In this example, our pipeline has an index made up of all 8000+ securities (truncated in the display) for December 27th, 2017, but doesn't have any columns.\n",
    "\n",
    "In the following lessons, we'll take a look at how to add columns to our pipeline output, and how to filter down to a subset of securities."
   ]
  }
 ],
 "metadata": {
  "kernelspec": {
   "display_name": "Python 3.5",
   "language": "python",
   "name": "py35"
  },
  "language_info": {
   "codemirror_mode": {
    "name": "ipython",
    "version": 3
   },
   "file_extension": ".py",
   "mimetype": "text/x-python",
   "name": "python",
   "nbconvert_exporter": "python",
   "pygments_lexer": "ipython3",
   "version": "3.5.9"
  }
 },
 "nbformat": 4,
 "nbformat_minor": 1
}